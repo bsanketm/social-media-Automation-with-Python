{
 "cells": [
  {
   "cell_type": "code",
   "execution_count": 1,
   "metadata": {},
   "outputs": [],
   "source": [
    "#pip install pywhatkit\n",
    "import pywhatkit # if you get error then remove # from first line & rin pip install pywhatkit"
   ]
  },
  {
   "cell_type": "code",
   "execution_count": null,
   "metadata": {},
   "outputs": [],
   "source": [
    "pywhatkit.sendwhatmsg('+919370******','Type your msg here',12,1)#12= hours; 1= mins\n",
    "                        #receiver whatsapp number, # msg to receiver,  # time on which you want to send\n",
    "                                                                                    #hour,min format"
   ]
  },
  {
   "cell_type": "code",
   "execution_count": null,
   "metadata": {},
   "outputs": [],
   "source": [
    "pywhatkit.showHistory()# to see the history of whatsapp msg sent from python"
   ]
  },
  {
   "cell_type": "code",
   "execution_count": null,
   "metadata": {},
   "outputs": [],
   "source": [
    "pywhatkit.playonyt(\"Chhatrapati shivaji\") # to see first video on web regarding \" msg\""
   ]
  },
  {
   "cell_type": "code",
   "execution_count": null,
   "metadata": {},
   "outputs": [],
   "source": [
    "pywhatkit.shutdown(time=10)#Will shutdown the system in 100 seconds\n"
   ]
  },
  {
   "cell_type": "code",
   "execution_count": null,
   "metadata": {},
   "outputs": [],
   "source": [
    "pywhatkit.cancelShutdown()#Will cancel the scheduled shutdown\n"
   ]
  },
  {
   "cell_type": "code",
   "execution_count": null,
   "metadata": {},
   "outputs": [],
   "source": [
    "pywhatkit.image_to_ascii_art('path_to_image','output_file')# to convert image to ASCII art\n",
    "# E.g.                            \n",
    "#pywhatkit.image_to_ascii_art('/Users/sanket7598/Desktop/pic.jpeg','sssd')\n",
    "                             #Path of source image  # type name in which you want to save as ASCII art\n",
    "                             #use quote for path and ASCII art "
   ]
  },
  {
   "cell_type": "code",
   "execution_count": null,
   "metadata": {},
   "outputs": [],
   "source": [
    "pywhatkit.text_to_handwriting(text,rgb=[0,0,0])#\n",
    "#pywhatkit.text_to_handwriting('/Users/sanket7598/Desktop/sign.jpeg',rgb=[0,0,0])"
   ]
  },
  {
   "cell_type": "code",
   "execution_count": null,
   "metadata": {},
   "outputs": [],
   "source": []
  }
 ],
 "metadata": {
  "kernelspec": {
   "display_name": "Python 3",
   "language": "python",
   "name": "python3"
  },
  "language_info": {
   "codemirror_mode": {
    "name": "ipython",
    "version": 3
   },
   "file_extension": ".py",
   "mimetype": "text/x-python",
   "name": "python",
   "nbconvert_exporter": "python",
   "pygments_lexer": "ipython3",
   "version": "3.8.5"
  }
 },
 "nbformat": 4,
 "nbformat_minor": 4
}
